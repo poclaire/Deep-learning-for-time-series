{
 "cells": [
  {
   "cell_type": "code",
   "execution_count": 2,
   "metadata": {},
   "outputs": [],
   "source": [
    "import pandas as pd\n",
    "import numpy as np\n",
    "from sklearn.metrics import mean_squared_error\n",
    "\n",
    "import os\n",
    "\n",
    "from diebold_mariano_test import dm_test\n"
   ]
  },
  {
   "cell_type": "markdown",
   "metadata": {},
   "source": [
    "The dataframe we use here is the actual data , and predicted data from AR(1), ARIMA(1,2) and MA(2) for  RTS in canada.\n",
    "One can compare predictive  accuracy of these three models. The test we are going to use is a hypotesis test so - called Diebold - Mariano test. \n",
    "The mathematical tools is well defined in https://www.sas.upenn.edu/~fdiebold/papers/paper68/pa.dm.pdf."
   ]
  },
  {
   "cell_type": "code",
   "execution_count": null,
   "metadata": {},
   "outputs": [],
   "source": []
  },
  {
   "cell_type": "code",
   "execution_count": 3,
   "metadata": {},
   "outputs": [
    {
     "data": {
      "text/html": [
       "<div>\n",
       "<style scoped>\n",
       "    .dataframe tbody tr th:only-of-type {\n",
       "        vertical-align: middle;\n",
       "    }\n",
       "\n",
       "    .dataframe tbody tr th {\n",
       "        vertical-align: top;\n",
       "    }\n",
       "\n",
       "    .dataframe thead th {\n",
       "        text-align: right;\n",
       "    }\n",
       "</style>\n",
       "<table border=\"1\" class=\"dataframe\">\n",
       "  <thead>\n",
       "    <tr style=\"text-align: right;\">\n",
       "      <th></th>\n",
       "      <th>Date</th>\n",
       "      <th>Actual</th>\n",
       "      <th>Pred_AR</th>\n",
       "      <th>Pred_MA</th>\n",
       "      <th>Pred_ARIMA</th>\n",
       "    </tr>\n",
       "  </thead>\n",
       "  <tbody>\n",
       "    <tr>\n",
       "      <th>0</th>\n",
       "      <td>01/07/1991</td>\n",
       "      <td>-0.011090</td>\n",
       "      <td>0.009997</td>\n",
       "      <td>0.000763</td>\n",
       "      <td>0.000477</td>\n",
       "    </tr>\n",
       "    <tr>\n",
       "      <th>1</th>\n",
       "      <td>01/08/1991</td>\n",
       "      <td>0.026000</td>\n",
       "      <td>0.009423</td>\n",
       "      <td>0.010661</td>\n",
       "      <td>0.010391</td>\n",
       "    </tr>\n",
       "    <tr>\n",
       "      <th>2</th>\n",
       "      <td>01/09/1991</td>\n",
       "      <td>0.006433</td>\n",
       "      <td>-0.014110</td>\n",
       "      <td>-0.017745</td>\n",
       "      <td>-0.016845</td>\n",
       "    </tr>\n",
       "    <tr>\n",
       "      <th>3</th>\n",
       "      <td>01/10/1991</td>\n",
       "      <td>0.031214</td>\n",
       "      <td>0.015169</td>\n",
       "      <td>0.007238</td>\n",
       "      <td>0.006533</td>\n",
       "    </tr>\n",
       "  </tbody>\n",
       "</table>\n",
       "</div>"
      ],
      "text/plain": [
       "         Date    Actual   Pred_AR   Pred_MA  Pred_ARIMA\n",
       "0  01/07/1991 -0.011090  0.009997  0.000763    0.000477\n",
       "1  01/08/1991  0.026000  0.009423  0.010661    0.010391\n",
       "2  01/09/1991  0.006433 -0.014110 -0.017745   -0.016845\n",
       "3  01/10/1991  0.031214  0.015169  0.007238    0.006533"
      ]
     },
     "execution_count": 3,
     "metadata": {},
     "output_type": "execute_result"
    }
   ],
   "source": [
    "data= pd.read_csv('actual_predicted_values.csv')  # data \n",
    "data.head(4)"
   ]
  },
  {
   "cell_type": "markdown",
   "metadata": {},
   "source": [
    "The code we use here come from: https://github.com/johntwk/Diebold-Mariano-Test"
   ]
  },
  {
   "cell_type": "markdown",
   "metadata": {},
   "source": [
    " ### Test AR(1) vs ARIMA(1,2 )"
   ]
  },
  {
   "cell_type": "code",
   "execution_count": 4,
   "metadata": {},
   "outputs": [
    {
     "name": "stdout",
     "output_type": "stream",
     "text": [
      "dm_return(DM=-3.1714170141652382, p_value=0.0016559084930627213)\n",
      "dm_return(DM=-3.0443512681601748, p_value=0.0025147937793507306)\n",
      "dm_return(DM=-3.1714170141652382, p_value=0.0016559084930627213)\n"
     ]
    }
   ],
   "source": [
    "rt=dm_test(data.Actual, data.Pred_AR, data.Pred_ARIMA, h = 1, crit=\"MSE\")\n",
    "print(rt)\n",
    "rt=dm_test(data.Actual, data.Pred_AR, data.Pred_ARIMA, h = 1, crit=\"MAD\")\n",
    "print(rt)\n",
    "rt=dm_test(data.Actual, data.Pred_AR, data.Pred_ARIMA, h = 1, crit=\"poly\", power = 2)\n",
    "print(rt)"
   ]
  },
  {
   "cell_type": "code",
   "execution_count": 7,
   "metadata": {},
   "outputs": [
    {
     "name": "stdout",
     "output_type": "stream",
     "text": [
      "dm_return(DM=8.62195750298023, p_value=2.5860235190571245e-16)\n"
     ]
    }
   ],
   "source": [
    "rt=dm_test(data.Actual, data.Pred_ARIMA, data.Actual, h = 1, crit=\"poly\", power = 2)\n",
    "print(rt)"
   ]
  },
  {
   "cell_type": "markdown",
   "metadata": {},
   "source": [
    "The p_value < 0.05 for the three diffrent criterion.\n",
    "\n",
    "1.MSE : d = (e1)^2 - (e2)^2\n",
    "\n",
    "2.MAD : d = abs(e1) - abs(e2)\n",
    "\n",
    "3.Poly: d = (e1)^power - (e2)^power\n",
    "\n",
    "So the null - hypothesis is rejected, however the statistic DM < 0 then ARIMA(1,2) outperforms than AR(1).\n"
   ]
  },
  {
   "cell_type": "markdown",
   "metadata": {},
   "source": [
    "#### RMSE"
   ]
  },
  {
   "cell_type": "code",
   "execution_count": 54,
   "metadata": {},
   "outputs": [
    {
     "name": "stdout",
     "output_type": "stream",
     "text": [
      "RMSE for AR(1) is:  0.0201\n",
      "RMSE for ARIMA(1,2) is:  0.0215\n",
      "RMSE for MA(2) is:  0.0217\n"
     ]
    }
   ],
   "source": [
    "RMSE_AR=np.sqrt(mean_squared_error(data.Actual, data.Pred_AR))\n",
    "print('RMSE for AR(1) is: ', round(RMSE_AR, 4))\n",
    "RMSE_ARIMA=np.sqrt(mean_squared_error(data.Actual, data.Pred_ARIMA))\n",
    "print('RMSE for ARIMA(1,2) is: ', round(RMSE_ARIMA, 4)) \n",
    "RMSE_MA=np.sqrt(mean_squared_error(data.Actual, data.Pred_MA))\n",
    "print('RMSE for MA(2) is: ', round(RMSE_MA, 4))"
   ]
  },
  {
   "cell_type": "markdown",
   "metadata": {},
   "source": [
    "### MA(2) vs ARIMA(1,2)"
   ]
  },
  {
   "cell_type": "code",
   "execution_count": 44,
   "metadata": {},
   "outputs": [
    {
     "name": "stdout",
     "output_type": "stream",
     "text": [
      "dm_return(DM=1.1449565823268724, p_value=0.25303722860734223)\n",
      "dm_return(DM=1.3869934236895383, p_value=0.1663577260509622)\n",
      "dm_return(DM=1.1449565823268724, p_value=0.25303722860734223)\n"
     ]
    }
   ],
   "source": [
    "rt=dm_test(data.Actual, data.Pred_MA, data.Pred_ARIMA, h = 1, crit=\"MSE\")\n",
    "print(rt)\n",
    "rt=dm_test(data.Actual, data.Pred_MA, data.Pred_ARIMA, h = 1, crit=\"MAD\")\n",
    "print(rt)\n",
    "rt=dm_test(data.Actual, data.Pred_MA, data.Pred_ARIMA, h = 1, crit=\"poly\", power = 2)\n",
    "print(rt)"
   ]
  },
  {
   "cell_type": "markdown",
   "metadata": {},
   "source": [
    "The p_value > 0.05 so the two models have the same level of accuracy"
   ]
  },
  {
   "cell_type": "code",
   "execution_count": null,
   "metadata": {},
   "outputs": [],
   "source": [
    "AR(1) is the best model."
   ]
  },
  {
   "cell_type": "code",
   "execution_count": null,
   "metadata": {},
   "outputs": [],
   "source": []
  }
 ],
 "metadata": {
  "kernelspec": {
   "display_name": "Python 3",
   "language": "python",
   "name": "python3"
  },
  "language_info": {
   "codemirror_mode": {
    "name": "ipython",
    "version": 3
   },
   "file_extension": ".py",
   "mimetype": "text/x-python",
   "name": "python",
   "nbconvert_exporter": "python",
   "pygments_lexer": "ipython3",
   "version": "3.7.6"
  }
 },
 "nbformat": 4,
 "nbformat_minor": 4
}
